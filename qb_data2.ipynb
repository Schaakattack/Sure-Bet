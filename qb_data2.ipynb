{
 "cells": [
  {
   "cell_type": "code",
   "execution_count": 1,
   "id": "07591bd4-6da1-427a-85d1-e33089d20005",
   "metadata": {},
   "outputs": [
    {
     "ename": "ModuleNotFoundError",
     "evalue": "No module named 'plotly'",
     "output_type": "error",
     "traceback": [
      "\u001b[1;31m---------------------------------------------------------------------------\u001b[0m",
      "\u001b[1;31mModuleNotFoundError\u001b[0m                       Traceback (most recent call last)",
      "Input \u001b[1;32mIn [1]\u001b[0m, in \u001b[0;36m<cell line: 22>\u001b[1;34m()\u001b[0m\n\u001b[0;32m     20\u001b[0m \u001b[38;5;28;01mfrom\u001b[39;00m \u001b[38;5;21;01mimblearn\u001b[39;00m\u001b[38;5;21;01m.\u001b[39;00m\u001b[38;5;21;01mmetrics\u001b[39;00m \u001b[38;5;28;01mimport\u001b[39;00m classification_report_imbalanced\n\u001b[0;32m     21\u001b[0m \u001b[38;5;28;01mimport\u001b[39;00m \u001b[38;5;21;01mwarnings\u001b[39;00m \n\u001b[1;32m---> 22\u001b[0m \u001b[38;5;28;01mimport\u001b[39;00m \u001b[38;5;21;01mplotly\u001b[39;00m\u001b[38;5;21;01m.\u001b[39;00m\u001b[38;5;21;01mgraph_objects\u001b[39;00m \u001b[38;5;28;01mas\u001b[39;00m \u001b[38;5;21;01mgo\u001b[39;00m \n\u001b[0;32m     23\u001b[0m \u001b[38;5;28;01mimport\u001b[39;00m \u001b[38;5;21;01mplotly\u001b[39;00m\u001b[38;5;21;01m.\u001b[39;00m\u001b[38;5;21;01mexpress\u001b[39;00m \u001b[38;5;28;01mas\u001b[39;00m \u001b[38;5;21;01mpx\u001b[39;00m\n",
      "\u001b[1;31mModuleNotFoundError\u001b[0m: No module named 'plotly'"
     ]
    }
   ],
   "source": [
    "# Imports\n",
    "import requests\n",
    "import matplotlib.pyplot as plt\n",
    "import numpy as np \n",
    "from pathlib import Path \n",
    "import json\n",
    "import pandas as pd\n",
    "from pathlib import Path\n",
    "import os\n",
    "from dotenv import load_dotenv\n",
    "import csv\n",
    "from bs4 import BeautifulSoup\n",
    "from sklearn import linear_model \n",
    "from sklearn import svm\n",
    "from sklearn import ensemble\n",
    "import warnings \n",
    "from sklearn.metrics import balanced_accuracy_score\n",
    "from sklearn.metrics import confusion_matrix\n",
    "from sklearn.model_selection import train_test_split\n",
    "from imblearn.metrics import classification_report_imbalanced\n",
    "import warnings \n",
    "import plotly.graph_objects as go \n",
    "import plotly.express as px "
   ]
  },
  {
   "cell_type": "code",
   "execution_count": null,
   "id": "76f24890-8da8-497d-95fc-d00b309b443f",
   "metadata": {},
   "outputs": [],
   "source": [
    "warnings.filterwarnings('ignore')"
   ]
  },
  {
   "cell_type": "code",
   "execution_count": null,
   "id": "c28e0b17-cbb0-4925-a6e1-36d66b031df5",
   "metadata": {},
   "outputs": [],
   "source": [
    "#read_csv file for \"FF_qb_2020.csv\" and \"FF_qb_2021.csv\"\n",
    "qb_data_2020 = pd.read_csv(\"FF_qb_2020.csv\")\n",
    "qb_data_2021 = pd.read_csv(\"FF_qb_2021.csv\")\n",
    "qb_data_2020"
   ]
  },
  {
   "cell_type": "code",
   "execution_count": null,
   "id": "59b2648f-b8af-456f-b278-2829b2a3cae9",
   "metadata": {},
   "outputs": [],
   "source": [
    "#Get column data for Player, Fantasy Points, and Fantasay points a game. dropna. \n",
    "qb_data_2020 = qb_data_2020[[\"Player\" , \"FPTS\", \"FPTS/G\"]].dropna()\n",
    "qb_data_2021 = qb_data_2021[[\"Player\" , \"FPTS\", \"FPTS/G\"]].dropna()"
   ]
  },
  {
   "cell_type": "code",
   "execution_count": null,
   "id": "bf5071fe-29e5-4722-8618-f0b5f3101051",
   "metadata": {},
   "outputs": [],
   "source": [
    "#Add years and QB's to the table names using add_prefix function\n",
    "#qb_data_2020 = qb_data_2020.add_prefix(\"2020_QBs_\")\n",
    "#qb_data_2021 = qb_data_2021.add_prefix(\"2021_QBs_\")"
   ]
  },
  {
   "cell_type": "code",
   "execution_count": null,
   "id": "d83942c1-8bb4-4a7d-8cb9-77c0d868e3c4",
   "metadata": {},
   "outputs": [],
   "source": [
    "#Display data\n",
    "qb_data_2020"
   ]
  },
  {
   "cell_type": "code",
   "execution_count": null,
   "id": "447db633-4242-402d-b6a7-7d505f79a93a",
   "metadata": {},
   "outputs": [],
   "source": [
    "#Get column data for Player, Fantasy Points, and Fantasay points a game. dropna. \n",
    "qb_data_2020 = qb_data_2020[[\"Player\", \"FPTS\", \"FPTS/G\",]].dropna()\n",
    "qb_data_2021 = qb_data_2021[[\"Player\", \"FPTS\", \"FPTS/G\",]].dropna()\n",
    "\n",
    "qb_data_2020[\"Year\"] = 2020\n",
    "qb_data_2021[\"Year\"] = 2021\n",
    "\n",
    "#Display\n",
    "display(qb_data_2020)\n",
    "\n",
    "#Display\n",
    "display(qb_data_2021)"
   ]
  },
  {
   "cell_type": "code",
   "execution_count": null,
   "id": "6928b742-e86a-436c-b644-69a54071f5c1",
   "metadata": {},
   "outputs": [],
   "source": [
    "#qb_data_2020.insert(loc=1, column=\"Fantasy Pos\", value=[\"QB\"])\n",
    "qb_data_2020[\"Fantasy Pos\"]= \"QB\"\n",
    "\n",
    "qb_data_2021[\"Fantasy Pos\"]= \"QB\""
   ]
  },
  {
   "cell_type": "code",
   "execution_count": null,
   "id": "e2946809-8a2f-4975-ad02-1866bab6e458",
   "metadata": {},
   "outputs": [],
   "source": [
    "#rename qb_data_2020 and qb_data_2021 columns. \n",
    "qb_data_2020.rename(columns={\n",
    "    \"FPTS\":\"Fantasy Points\",\n",
    "    \"FPTS/G\":\"Fantasy Points/GM\"}, inplace=True)\n",
    "\n",
    "\n",
    "qb_data_2021.rename(columns={\n",
    "    \"FPTS\":\"Fantasy Points\",\n",
    "    \"FPTS/G\":\"Fantasy Points/GM\"}, inplace=True)\n",
    "\n",
    "#Display\n",
    "display(qb_data_2020)\n",
    "#Dispaly \n",
    "display(qb_data_2021)"
   ]
  },
  {
   "cell_type": "code",
   "execution_count": null,
   "id": "362d5f42",
   "metadata": {},
   "outputs": [],
   "source": [
    "#move column name \"Fantasy Pos\" to 2nd column position.\n",
    "column_name_move = qb_data_2020.pop(\"Fantasy Pos\")\n",
    "\n",
    "qb_data_2020.insert(1, \"Fantasy Pos\", column_name_move)\n",
    "\n",
    "\n",
    "column_name_move = qb_data_2021.pop(\"Fantasy Pos\")\n",
    "\n",
    "qb_data_2021.insert(1, \"Fantasy Pos\", column_name_move)\n",
    "\n",
    "#Display\n",
    "display(qb_data_2020)\n",
    "\n",
    "#Display\n",
    "display(qb_data_2021)"
   ]
  },
  {
   "cell_type": "code",
   "execution_count": null,
   "id": "7dfdad14-0302-432d-816b-96627902269d",
   "metadata": {},
   "outputs": [],
   "source": [
    "#concat qb_dataframes and dropna. \n",
    "combine_qb_data= pd.concat([qb_data_2020, qb_data_2021], axis=0, sort=False).dropna()\n",
    "combine_qb_data.reset_index(inplace=True, drop=True)\n",
    "combine_qb_data"
   ]
  },
  {
   "cell_type": "code",
   "execution_count": null,
   "id": "16c21ba5-e943-4821-ae75-eb05431ee1da",
   "metadata": {},
   "outputs": [],
   "source": [
    "#create a team list and player list \n",
    "team_list = []\n",
    "player_name_list = []\n",
    "\n",
    "# create a forloop to split the player name and player team. \n",
    "for i in range(0,len(combine_qb_data[\"Player\"])):\n",
    "    team_list.append(combine_qb_data[\"Player\"][i].split()[-1].replace(\"(\",\"\").replace(\")\",\"\"))\n",
    "    player_name_list.append(\" \".join(combine_qb_data[\"Player\"][i].split()[:-1]))\n",
    "\n",
    "#create split list Player and Team\n",
    "combine_qb_data[\"Player\"] = player_name_list\n",
    "combine_qb_data[\"Team\"] = team_list\n",
    "combine_qb_data"
   ]
  },
  {
   "cell_type": "code",
   "execution_count": null,
   "id": "194ff784-7574-4327-84db-efab9b74cb38",
   "metadata": {},
   "outputs": [],
   "source": [
    "#groupby Players get the average of fantasy points and fantasay points/GM sort value by fantasy point/gm in accending order. \n",
    "combine_qb_data.groupby([\"Player\"]).mean()[[\"Fantasy Points\", \"Fantasy Points/GM\"]].sort_values(\"Fantasy Points/GM\",ascending=False).reset_index()"
   ]
  },
  {
   "cell_type": "code",
   "execution_count": null,
   "id": "ddd67711-6d93-407f-bb4a-bad898749eb8",
   "metadata": {},
   "outputs": [],
   "source": [
    "#import hvplot\n",
    "import hvplot.pandas\n",
    "\n",
    "#scatter plot the x axis fantasy points/gm and fantasy and y axis fantasy points. \n",
    "combine_qb_data.hvplot.scatter(\n",
    "    y=\"Fantasy Points\", \n",
    "    x=\"Fantasy Points/GM\", \n",
    "    by=\"Year\", \n",
    "    hover_cols=[\"Player\"]\n",
    ")"
   ]
  },
  {
   "cell_type": "markdown",
   "id": "d1831615-4df8-407b-b030-80134263f42e",
   "metadata": {},
   "source": [
    "# Machine Learning Model Development"
   ]
  },
  {
   "cell_type": "code",
   "execution_count": null,
   "id": "ca707772-27f7-4b07-8726-14ddccbb3c77",
   "metadata": {},
   "outputs": [],
   "source": [
    "# Review the dataframe\n",
    "combine_qb_data.head()"
   ]
  },
  {
   "cell_type": "code",
   "execution_count": null,
   "id": "cfc10132-690f-4121-869b-433a101e6fad",
   "metadata": {},
   "outputs": [],
   "source": [
    "# Define target column and features columns\n",
    "X = combine_qb_data.drop(columns=[\"Fantasy Points/GM\",\"Year\"])\n",
    "y = combine_qb_data[\"Fantasy Points/GM\"]\n",
    "\n",
    "# Review X\n",
    "X.head()"
   ]
  },
  {
   "cell_type": "code",
   "execution_count": null,
   "id": "28df2777-a695-4f7a-ac86-6dcfa21eaaaf",
   "metadata": {},
   "outputs": [],
   "source": [
    "# Review y\n",
    "y[:5]"
   ]
  },
  {
   "cell_type": "code",
   "execution_count": null,
   "id": "4392f8be-3a15-49f5-9cb9-6c71847f7e2f",
   "metadata": {},
   "outputs": [],
   "source": [
    "# Encode categorial variables into numeric variables\n",
    "X = pd.get_dummies(X)\n",
    "X.head()"
   ]
  },
  {
   "cell_type": "code",
   "execution_count": null,
   "id": "b88c4def-de61-4c5c-bc67-103f42050445",
   "metadata": {},
   "outputs": [],
   "source": [
    "# Scale the data\n",
    "from sklearn.preprocessing import StandardScaler\n",
    "scaler = StandardScaler()\n",
    "scaler.fit(X)\n",
    "X = scaler.transform(X)\n",
    "\n",
    "# Review scaled data\n",
    "X[:1]"
   ]
  },
  {
   "cell_type": "code",
   "execution_count": null,
   "id": "48c880b5-9b33-4c60-a611-3f7df700b549",
   "metadata": {},
   "outputs": [],
   "source": [
    "# Get train and test subsets\n",
    "X_train, X_test, y_train, y_test = train_test_split(X, y, train_size=0.7, random_state=1)"
   ]
  },
  {
   "cell_type": "code",
   "execution_count": null,
   "id": "8cd46ad4-9a5a-4da4-9df2-d3e4f872a598",
   "metadata": {},
   "outputs": [],
   "source": [
    "# Fit Linear Regressin Model *bad test model and doesn't work with random_state. \n",
    "from sklearn.linear_model import LinearRegression\n",
    "# Fit ExtraTreesRegressor *good test model\n",
    "from sklearn.ensemble import ExtraTreesRegressor\n",
    "\n",
    "model = ExtraTreesRegressor(random_state=42)\n",
    "model.fit(X_train, y_train)\n",
    "y_pred = model.predict(X_test)"
   ]
  },
  {
   "cell_type": "code",
   "execution_count": null,
   "id": "bc36af3b-ab2d-498f-a9b3-986b64376c2d",
   "metadata": {},
   "outputs": [],
   "source": [
    "# Model evaluation\n",
    "\n",
    "# Get the coefficient of determination R2\n",
    "from sklearn.metrics import r2_score\n",
    "print(r2_score(y_test, y_pred))"
   ]
  },
  {
   "cell_type": "code",
   "execution_count": null,
   "id": "3e64b901-123a-4bc4-9ca6-5d9099df68d5",
   "metadata": {},
   "outputs": [],
   "source": [
    "# Get the Mean Squared Error\n",
    "from sklearn.metrics import mean_squared_error\n",
    "print(mean_squared_error(y_test,y_pred))"
   ]
  },
  {
   "cell_type": "code",
   "execution_count": null,
   "id": "6a22dce3-aa02-4243-a256-5059e3dd3c7e",
   "metadata": {},
   "outputs": [],
   "source": [
    "# Get the Root Mean Squared Error\n",
    "print(np.sqrt(mean_squared_error(y_test, y_pred)))"
   ]
  },
  {
   "cell_type": "code",
   "execution_count": null,
   "id": "6431749d-d697-4681-b180-847c21721b04",
   "metadata": {},
   "outputs": [],
   "source": []
  }
 ],
 "metadata": {
  "kernelspec": {
   "display_name": "Python (dev)",
   "language": "python",
   "name": "dev"
  },
  "language_info": {
   "codemirror_mode": {
    "name": "ipython",
    "version": 3
   },
   "file_extension": ".py",
   "mimetype": "text/x-python",
   "name": "python",
   "nbconvert_exporter": "python",
   "pygments_lexer": "ipython3",
   "version": "3.7.13"
  }
 },
 "nbformat": 4,
 "nbformat_minor": 5
}
