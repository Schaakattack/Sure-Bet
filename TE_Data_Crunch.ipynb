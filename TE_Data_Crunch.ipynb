{
 "cells": [
  {
   "cell_type": "code",
   "execution_count": 1,
   "id": "89f1afc0-700c-4c12-a557-114454c2af9f",
   "metadata": {},
   "outputs": [],
   "source": [
    "# Imports\n",
    "import requests\n",
    "import json\n",
    "import pandas as pd\n",
    "import numpy as np\n",
    "from pathlib import Path\n",
    "import os\n",
    "from dotenv import load_dotenv\n",
    "import matplotlib.pyplot as plt\n",
    "from pprint import pprint\n",
    "import csv"
   ]
  },
  {
   "cell_type": "code",
   "execution_count": 2,
   "id": "03b10ebb-7f29-4e6d-ae77-39ff9625bac5",
   "metadata": {},
   "outputs": [],
   "source": [
    "# API Call of 2021 Regualar season team data\n",
    "url= \"http://api.sportradar.us/nfl/official/trial/v7/en/seasons/2021/REG/teams/97354895-8c77-4fd4-a860-32e62ea7382a/statistics.json?api_key=n348bxq8f6g6z9e2cfseqzk5\""
   ]
  },
  {
   "cell_type": "code",
   "execution_count": 3,
   "id": "9f4ec52c-c2fb-4042-8bc8-b7c8c9c7eb4e",
   "metadata": {},
   "outputs": [],
   "source": [
    "headers = {\n",
    "    'Accept' : 'application/json',\n",
    "    'Content-Type' : 'application/json'\n",
    "}"
   ]
  },
  {
   "cell_type": "code",
   "execution_count": 4,
   "id": "6d474e32-7928-42ef-a834-148d2b9744d1",
   "metadata": {},
   "outputs": [],
   "source": [
    "response = requests.request(\"GET\", url, headers=headers, data={})"
   ]
  },
  {
   "cell_type": "code",
   "execution_count": 5,
   "id": "d2164998-f774-4b45-8f37-8ca4760558a5",
   "metadata": {},
   "outputs": [],
   "source": [
    "myjson = response.json()"
   ]
  },
  {
   "cell_type": "code",
   "execution_count": 6,
   "id": "ebc31363-80d0-4801-9b35-77000029c590",
   "metadata": {},
   "outputs": [],
   "source": [
    "te_data = []"
   ]
  },
  {
   "cell_type": "code",
   "execution_count": 7,
   "id": "6ae5eec2-999a-4169-9b42-41c0409d670a",
   "metadata": {},
   "outputs": [
    {
     "ename": "KeyError",
     "evalue": "'receiving'",
     "output_type": "error",
     "traceback": [
      "\u001b[1;31m---------------------------------------------------------------------------\u001b[0m",
      "\u001b[1;31mKeyError\u001b[0m                                  Traceback (most recent call last)",
      "Input \u001b[1;32mIn [7]\u001b[0m, in \u001b[0;36m<cell line: 1>\u001b[1;34m()\u001b[0m\n\u001b[0;32m      1\u001b[0m \u001b[38;5;28;01mfor\u001b[39;00m x \u001b[38;5;129;01min\u001b[39;00m myjson[\u001b[38;5;124m'\u001b[39m\u001b[38;5;124mplayers\u001b[39m\u001b[38;5;124m'\u001b[39m]:\n\u001b[1;32m----> 2\u001b[0m     listing \u001b[38;5;241m=\u001b[39m [x[\u001b[38;5;124m'\u001b[39m\u001b[38;5;124mname\u001b[39m\u001b[38;5;124m'\u001b[39m], x[\u001b[38;5;124m'\u001b[39m\u001b[38;5;124mposition\u001b[39m\u001b[38;5;124m'\u001b[39m], \u001b[43mx\u001b[49m\u001b[43m[\u001b[49m\u001b[38;5;124;43m'\u001b[39;49m\u001b[38;5;124;43mreceiving\u001b[39;49m\u001b[38;5;124;43m'\u001b[39;49m\u001b[43m]\u001b[49m, x[\u001b[38;5;124m'\u001b[39m\u001b[38;5;124myards\u001b[39m\u001b[38;5;124m'\u001b[39m], x[\u001b[38;5;124m'\u001b[39m\u001b[38;5;124mtouchdowns\u001b[39m\u001b[38;5;124m'\u001b[39m]]\n\u001b[0;32m      3\u001b[0m     te_data\u001b[38;5;241m.\u001b[39mappend(listing)\n",
      "\u001b[1;31mKeyError\u001b[0m: 'receiving'"
     ]
    }
   ],
   "source": [
    "for x in myjson['players']:\n",
    "    listing = [x['name'], x['position'], x['receiving'], x['yards'], x['touchdowns']]\n",
    "    te_data.append(listing)\n",
    "      \n",
    "    "
   ]
  },
  {
   "cell_type": "code",
   "execution_count": null,
   "id": "1f9c74b4-a3a3-4eb3-8506-9c2cd8edf0c0",
   "metadata": {},
   "outputs": [],
   "source": [
    "print(json.dumps(myjson, indent=3, sort_keys=True))"
   ]
  },
  {
   "cell_type": "code",
   "execution_count": null,
   "id": "726cff70-8ce1-4dc7-a030-d66d7d012b1a",
   "metadata": {},
   "outputs": [],
   "source": [
    "# Create link to NFL api on Sport Radar\n",
    "request = requests.get(\"http://api.sportradar.us/nfl/official/trial/v7/en/seasons/2021/REG/teams/97354895-8c77-4fd4-a860-32e62ea7382a/statistics.json?api_key=n348bxq8f6g6z9e2cfseqzk5\").json()"
   ]
  },
  {
   "cell_type": "code",
   "execution_count": null,
   "id": "4280c53b-6386-4d87-ad5f-21a0ebe472cb",
   "metadata": {},
   "outputs": [],
   "source": [
    "# Response type\n",
    "type(request)\n"
   ]
  },
  {
   "cell_type": "code",
   "execution_count": null,
   "id": "e2900bd6-e7d6-4775-905a-9de0a2c3b366",
   "metadata": {},
   "outputs": [],
   "source": [
    "# Print the response\n",
    "x = request.json()\n",
    "df = pd.read_json(json.dumps(x))\n",
    "#print(json.dumps(request, indent=3, sort_keys=True))"
   ]
  },
  {
   "cell_type": "code",
   "execution_count": null,
   "id": "743e0b8d-aedd-4de0-9a37-dd4718104770",
   "metadata": {},
   "outputs": [],
   "source": []
  },
  {
   "cell_type": "code",
   "execution_count": null,
   "id": "f272b49f-a628-4e90-9bc7-7e36a070bb95",
   "metadata": {},
   "outputs": [],
   "source": []
  }
 ],
 "metadata": {
  "kernelspec": {
   "display_name": "Python (dev)",
   "language": "python",
   "name": "dev"
  },
  "language_info": {
   "codemirror_mode": {
    "name": "ipython",
    "version": 3
   },
   "file_extension": ".py",
   "mimetype": "text/x-python",
   "name": "python",
   "nbconvert_exporter": "python",
   "pygments_lexer": "ipython3",
   "version": "3.7.13"
  }
 },
 "nbformat": 4,
 "nbformat_minor": 5
}
